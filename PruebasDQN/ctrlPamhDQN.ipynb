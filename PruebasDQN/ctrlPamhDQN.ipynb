{
 "cells": [
  {
   "cell_type": "code",
   "execution_count": 2,
   "metadata": {},
   "outputs": [],
   "source": [
    "import sys\n",
    "sys.path.append(\"C:\\\\Users\\\\Kley2\\\\Documents\\\\TFG_2024\")"
   ]
  },
  {
   "cell_type": "code",
   "execution_count": 3,
   "metadata": {},
   "outputs": [
    {
     "ename": "ModuleNotFoundError",
     "evalue": "No module named 'pahm_model'",
     "output_type": "error",
     "traceback": [
      "\u001b[1;31m---------------------------------------------------------------------------\u001b[0m",
      "\u001b[1;31mModuleNotFoundError\u001b[0m                       Traceback (most recent call last)",
      "Cell \u001b[1;32mIn[3], line 2\u001b[0m\n\u001b[0;32m      1\u001b[0m \u001b[38;5;28;01mimport\u001b[39;00m \u001b[38;5;21;01mgymnasium\u001b[39;00m \u001b[38;5;28;01mas\u001b[39;00m \u001b[38;5;21;01mgym\u001b[39;00m\n\u001b[1;32m----> 2\u001b[0m \u001b[38;5;28;01mfrom\u001b[39;00m \u001b[38;5;21;01mGym_wrapper\u001b[39;00m\u001b[38;5;21;01m.\u001b[39;00m\u001b[38;5;21;01mlearned_pahm\u001b[39;00m \u001b[38;5;28;01mimport\u001b[39;00m LearnedPAHM\n\u001b[0;32m      3\u001b[0m \u001b[38;5;28;01mimport\u001b[39;00m \u001b[38;5;21;01mnumpy\u001b[39;00m \u001b[38;5;28;01mas\u001b[39;00m \u001b[38;5;21;01mnp\u001b[39;00m\n\u001b[0;32m      4\u001b[0m \u001b[38;5;66;03m#import keyboard\u001b[39;00m\n",
      "File \u001b[1;32m~\\Documents\\TFG_2024\\Gym_wrapper\\learned_pahm.py:13\u001b[0m\n\u001b[0;32m     10\u001b[0m \u001b[38;5;28;01mfrom\u001b[39;00m \u001b[38;5;21;01mgymnasium\u001b[39;00m\u001b[38;5;21;01m.\u001b[39;00m\u001b[38;5;21;01menvs\u001b[39;00m\u001b[38;5;21;01m.\u001b[39;00m\u001b[38;5;21;01mclassic_control\u001b[39;00m \u001b[38;5;28;01mimport\u001b[39;00m utils\n\u001b[0;32m     11\u001b[0m \u001b[38;5;28;01mfrom\u001b[39;00m \u001b[38;5;21;01mgymnasium\u001b[39;00m\u001b[38;5;21;01m.\u001b[39;00m\u001b[38;5;21;01merror\u001b[39;00m \u001b[38;5;28;01mimport\u001b[39;00m DependencyNotInstalled\n\u001b[1;32m---> 13\u001b[0m \u001b[38;5;28;01mfrom\u001b[39;00m \u001b[38;5;21;01mpahm_model\u001b[39;00m \u001b[38;5;28;01mimport\u001b[39;00m PAHMModel\n\u001b[0;32m     14\u001b[0m \u001b[38;5;28;01mimport\u001b[39;00m \u001b[38;5;21;01mtorch\u001b[39;00m\n\u001b[0;32m     16\u001b[0m \u001b[38;5;28;01mclass\u001b[39;00m \u001b[38;5;21;01mLearnedPAHM\u001b[39;00m(gym\u001b[38;5;241m.\u001b[39mEnv):\n",
      "\u001b[1;31mModuleNotFoundError\u001b[0m: No module named 'pahm_model'"
     ]
    }
   ],
   "source": [
    "import gymnasium as gym\n",
    "from Gym_wrapper.learned_pahm import LearnedPAHM\n",
    "import numpy as np\n",
    "#import keyboard\n",
    "\n",
    "\n",
    "env = LearnedPAHM(render_mode=\"human\")\n",
    "\n",
    "state=\"Sine\"\n",
    "listen_keys = False;\n",
    "\n",
    "\n",
    "def on_key_pressed(e):\n",
    "    global state\n",
    "    if e.name == \"space\":\n",
    "        listen_keys=True\n",
    "        state=\"Off\"\n",
    "    elif e.name == \"s\":\n",
    "        listen_keys=True\n",
    "        state=\"Step\"\n",
    "    print(f\"State={state}\")\n",
    "\n",
    "#keyboard.on_press(on_key_pressed)\n",
    "        \n",
    "\n",
    "while True:\n",
    "    observation,info = env.reset(seed=123)\n",
    "    done=False\n",
    "    step=0\n",
    "    \n",
    "    while not done:\n",
    "        if state==\"Random\":\n",
    "            action = env.action_space.sample()*0.25\n",
    "        elif state==\"Off\":\n",
    "            action = np.array([0.0])\n",
    "        elif state==\"Step\":\n",
    "            action = np.array([0.2])\n",
    "        elif state==\"Sine\":\n",
    "            action = np.array([0.25*(1+np.sin(step*2*np.pi/(50*3)))/2])\n",
    "\n",
    "        if not listen_keys:\n",
    "            if np.random.rand() < 1.0/(50*3): # change every 3s...\n",
    "                state=[\"Random\",\"Off\",\"Step\",\"Sine\"][np.random.randint(0,4)]\n",
    "                print(f\"State={state}\")\n",
    "        \n",
    "            \n",
    "        observation,reward,terminated,truncated,info = env.step(action)\n",
    "        if step%5==0:\n",
    "            env.render() \n",
    "        step+=1\n",
    "        done=terminated or truncated\n",
    "\n",
    "        if step%50 == 0:\n",
    "            print(\".\")\n",
    "\n",
    "env.close()"
   ]
  }
 ],
 "metadata": {
  "kernelspec": {
   "display_name": "forDQN",
   "language": "python",
   "name": "python3"
  },
  "language_info": {
   "codemirror_mode": {
    "name": "ipython",
    "version": 3
   },
   "file_extension": ".py",
   "mimetype": "text/x-python",
   "name": "python",
   "nbconvert_exporter": "python",
   "pygments_lexer": "ipython3",
   "version": "3.10.14"
  }
 },
 "nbformat": 4,
 "nbformat_minor": 2
}
