{
 "cells": [
  {
   "cell_type": "markdown",
   "id": "d170b8c2",
   "metadata": {},
   "source": [
    "## Ejemplo de Pendulum"
   ]
  },
  {
   "cell_type": "code",
   "execution_count": 10,
   "id": "b6e5d177",
   "metadata": {},
   "outputs": [],
   "source": [
    "# env = gym.make(\"Pendulum-v1\", render_mode=\"human\")\n",
    "# observation, info = env.reset()\n",
    "\n",
    "# for _ in range(250):\n",
    "#     action = env.action_space.sample()  # agent policy that uses the observation and info\n",
    "#     observation, reward, terminated, truncated, info = env.step(action)\n",
    "\n",
    "#     print(observation, reward, terminated, truncated, info)\n",
    "\n",
    "#     if terminated or truncated:\n",
    "#         observation, info = env.reset()\n",
    "\n",
    "# env.close()"
   ]
  },
  {
   "cell_type": "markdown",
   "id": "fa666d39-dd11-4cd3-9628-c59cb4f3b164",
   "metadata": {},
   "source": [
    "## Basic"
   ]
  },
  {
   "cell_type": "code",
   "execution_count": 11,
   "id": "3e203cc8-ceac-434a-9cf2-5f770c87bcaf",
   "metadata": {},
   "outputs": [],
   "source": [
    "import gymnasium as gym\n",
    "import math\n",
    "import random\n",
    "import matplotlib\n",
    "import matplotlib.pyplot as plt\n",
    "from collections import namedtuple, deque\n",
    "from itertools import count\n",
    "\n",
    "import torch\n",
    "import torch.nn as nn\n",
    "import torch.optim as optim\n",
    "import torch.nn.functional as F\n",
    "import numpy as np"
   ]
  },
  {
   "cell_type": "code",
   "execution_count": null,
   "id": "0dec8b99-c564-4e99-9632-a85f6a4bb7ee",
   "metadata": {},
   "outputs": [],
   "source": []
  },
  {
   "cell_type": "code",
   "execution_count": 12,
   "id": "104ea53a-b1cd-4716-a498-7bb5d4a1cca4",
   "metadata": {},
   "outputs": [
    {
     "name": "stdout",
     "output_type": "stream",
     "text": [
      "False\n"
     ]
    }
   ],
   "source": [
    "#env = gym.make(\"Pendulum-v1\")\n",
    "env = gym.make(\"Pendulum-v1\", render_mode=\"human\", g=9.81)\n",
    "\n",
    "\n",
    "# set up matplotlib\n",
    "is_ipython = 'inline' in matplotlib.get_backend()\n",
    "if is_ipython:\n",
    "    from IPython import display\n",
    "\n",
    "plt.ion()\n",
    "\n",
    "# if GPU is to be used\n",
    "device = torch.device(\"cuda\" if torch.cuda.is_available() else \"cpu\")\n",
    "\n",
    "print(torch.cuda.is_available())\n",
    "\n",
    "# ********************************************************************\n",
    "\n",
    "def calculate_reward(observ, torque, target_angle):\n",
    "    #theta, theta_dot = state\n",
    "    theta = math.acos(observ[0])\n",
    "    theta_dot = observ[2]\n",
    "\n",
    "    theta_n = ((theta + np.pi) % (2*np.pi)) - np.pi\n",
    "\n",
    "    theta_error = np.abs(theta_n - target_angle)\n",
    "    \n",
    "    costs = theta_error**2 + 0.1 * theta_dot**2 + 0.001 * (torque**2)\n",
    "\n",
    "    if theta_error <= 0.17: # ~ 10°\n",
    "        reward_n = -costs + 0.5\n",
    "    else:\n",
    "        reward_n = -costs\n",
    "\n",
    "    return torch.tensor([reward_n], device=device)"
   ]
  },
  {
   "cell_type": "markdown",
   "id": "76e9fa4a-1eab-4ebe-ac5d-68341fc094eb",
   "metadata": {},
   "source": [
    "## Replay Memory"
   ]
  },
  {
   "cell_type": "code",
   "execution_count": 13,
   "id": "1b596cfc-f608-4079-ab09-486b1abe084d",
   "metadata": {},
   "outputs": [],
   "source": [
    "Transition = namedtuple('Transition',\n",
    "                        ('state', 'action', 'next_state', 'reward'))\n",
    "\n",
    "\n",
    "class ReplayMemory(object):\n",
    "\n",
    "    def __init__(self, capacity):\n",
    "        self.memory = deque([], maxlen=capacity)\n",
    "\n",
    "    def push(self, *args):\n",
    "        \"\"\"Save a transition\"\"\"\n",
    "        self.memory.append(Transition(*args))\n",
    "\n",
    "    def sample(self, batch_size):\n",
    "        return random.sample(self.memory, batch_size)\n",
    "\n",
    "    def __len__(self):\n",
    "        return len(self.memory)"
   ]
  },
  {
   "cell_type": "markdown",
   "id": "a87f609a-0632-4e38-9ee5-2cc6529e7aea",
   "metadata": {},
   "source": [
    "## DQN Algorithm"
   ]
  },
  {
   "cell_type": "markdown",
   "id": "0b74620c-5a08-486a-a983-9215936071d4",
   "metadata": {},
   "source": [
    "### Q-network"
   ]
  },
  {
   "cell_type": "code",
   "execution_count": 14,
   "id": "60cecab8-052f-4252-9777-e05406dde454",
   "metadata": {},
   "outputs": [],
   "source": [
    "class DQN(nn.Module):\n",
    "\n",
    "    def __init__(self, n_observations, n_actions):\n",
    "        super(DQN, self).__init__()\n",
    "        self.layer1 = nn.Linear(n_observations, 128)\n",
    "        self.layer2 = nn.Linear(128, 128)\n",
    "        self.output_layer = nn.Linear(128, n_actions)\n",
    "\n",
    "    # Called with either one element to determine next action, or a batch\n",
    "    # during optimization. Returns tensor([[left0exp,right0exp]...]).\n",
    "    def forward(self, x):\n",
    "        x = F.relu(self.layer1(x))\n",
    "        x = F.relu(self.layer2(x))\n",
    "        return self.output_layer(x)\n",
    "    \n",
    "# class DQN(nn.Module):\n",
    "#     def __init__(self, n_observations, n_actions):\n",
    "#         super(DQN, self).__init__()\n",
    "#         self.layer1 = nn.Linear(n_observations, 16)\n",
    "#         self.layer2 = nn.Linear(16, 32)\n",
    "#         self.layer3 = nn.Linear(32, 64)\n",
    "#         self.layer4 = nn.Linear(64, 64)\n",
    "#         self.output_layer = nn.Linear(64, n_actions)\n",
    "\n",
    "#     def forward(self, x):\n",
    "#         x = F.relu(self.layer1(x))\n",
    "#         x = F.relu(self.layer2(x))\n",
    "#         x = F.relu(self.layer3(x))\n",
    "#         x = F.relu(self.layer4(x))\n",
    "#         return self.output_layer(x)\n",
    "\n",
    "\n"
   ]
  },
  {
   "cell_type": "markdown",
   "id": "f18fbc2a-09d0-4648-970d-1d916973c71e",
   "metadata": {},
   "source": [
    "## Training"
   ]
  },
  {
   "cell_type": "code",
   "execution_count": 15,
   "id": "59139d17-3dab-406f-91c8-e01ddfda387d",
   "metadata": {},
   "outputs": [],
   "source": [
    "BATCH_SIZE = 128    # number of transitions sampled from the replay buffer\n",
    "GAMMA = 0.99        # discount factor as mentioned in the previous section\n",
    "EPS_START = 0.9     # starting value of epsilon\n",
    "EPS_END = 0.05      # final value of epsilon\n",
    "EPS_DECAY = 1000    # controls the rate of exponential decay of epsilon, higher means a slower decay\n",
    "TAU = 0.005         # update rate of the target network\n",
    "LR = 1e-4           # learning rate of the ``AdamW`` optimizer\n",
    "\n",
    "# **************************************\n",
    "# **************************************\n",
    "\n",
    "n_actions = 1       # Discretizacion\n",
    "\n",
    "# uMax = 2\n",
    "# DU = 2*uMax/(n_actions-1)\n",
    "\n",
    "# # **************************************\n",
    "# # **************************************\n",
    " \n",
    "# # torch.clamp() es la función equivalente a np.clip() y torch.floor() es la función equivalente a np.floor()\n",
    "\n",
    "# def c2du(u):\n",
    "#     u = torch.clamp(u,-uMax,uMax)\n",
    "#     return torch.floor((u+uMax)/DU)\n",
    "\n",
    "# def d2cu(iu):\n",
    "#     iu = torch.clamp(iu,0,n_actions-1) - (n_actions-1)/2\n",
    "#     return iu*DU\n",
    "\n",
    "# **************************************\n",
    "# **************************************\n",
    "\n",
    "state, info = env.reset()\n",
    "n_observations = len(state)\n",
    "\n",
    "policy_net = DQN(n_observations, n_actions).to(device)\n",
    "target_net = DQN(n_observations, n_actions).to(device)\n",
    "target_net.load_state_dict(policy_net.state_dict())\n",
    "\n",
    "optimizer = optim.AdamW(policy_net.parameters(), lr=LR, amsgrad=True)\n",
    "memory = ReplayMemory(10000)\n",
    "\n",
    "\n",
    "steps_done = 0\n",
    "\n",
    "# **************************************\n",
    "# **************************************\n",
    "\n",
    "def select_action(state):\n",
    "    global steps_done\n",
    "    sample = random.random()\n",
    "    eps_threshold = EPS_END + (EPS_START - EPS_END) * \\\n",
    "        math.exp(-1. * steps_done / EPS_DECAY)\n",
    "    steps_done += 1\n",
    "    if sample > eps_threshold:\n",
    "        with torch.no_grad():\n",
    "            # t.max(1) will return the largest column value of each row.\n",
    "            # second column on max result is index of where max element was\n",
    "            # found, so we pick action with the larger expected reward.\n",
    "            #return policy_net(state).max(1).indices.view(1, 1)\n",
    "            newvalue = policy_net(state).max(1).indices.view(1, 1).item()\n",
    "            if newvalue == 0:\n",
    "                return [0]\n",
    "            else:\n",
    "                return newvalue \n",
    "    else:\n",
    "        #return torch.tensor([[env.action_space.sample()]], device=device, dtype=torch.float32)\n",
    "        newvalue = env.action_space.sample()\n",
    "        if newvalue == 0:\n",
    "            return [0]\n",
    "        else:\n",
    "            return newvalue \n",
    "        \n",
    "\n",
    "# def select_action(state):\n",
    "#     global steps_done\n",
    "#     sample = random.random()\n",
    "#     eps_threshold = EPS_END + (EPS_START - EPS_END) * \\\n",
    "#         math.exp(-1. * steps_done / EPS_DECAY)\n",
    "#     steps_done += 1\n",
    "#     if sample > eps_threshold:\n",
    "#         with torch.no_grad():\n",
    "#             # \n",
    "#             return c2du(torch.argmax(policy_net(state)))\n",
    "#     else:\n",
    "#         return c2du(torch.argmax(policy_net(state)))\n",
    "#     torch.tensor([[env.action_space.sample()]], device=device, dtype=torch.float32)\n",
    "\n",
    "\n",
    "# **************************************\n",
    "# **************************************\n",
    "\n",
    "episode_rewards = []\n",
    "\n",
    "\n",
    "def plot_rewards(show_result=False):\n",
    "    plt.figure(1)\n",
    "    rewards_t = torch.tensor(episode_rewards, dtype=torch.float)\n",
    "    if show_result:\n",
    "        plt.title('Result')\n",
    "    else:\n",
    "        plt.clf()\n",
    "        plt.title('Training...')\n",
    "    plt.xlabel('Time steps (gray lines=episode)')\n",
    "    plt.ylabel('Reward')\n",
    "    plt.plot(rewards_t.numpy(), linewidth=0.5)\n",
    "    # Take 100 episode averages and plot them too\n",
    "    if len(rewards_t) >= 100:\n",
    "        means = rewards_t.unfold(0, 100, 1).mean(1).view(-1)\n",
    "        means = torch.cat((torch.zeros(99), means))\n",
    "        plt.plot(means.numpy())\n",
    "\n",
    "    # Añadir líneas verticales rojas en cada t=200\n",
    "    for t in range(200, len(rewards_t) + 1, 200):\n",
    "        plt.axvline(x=t, color='gray')\n",
    "\n",
    "    plt.pause(0.001)  # pause a bit so that plots are updated\n",
    "    if is_ipython:\n",
    "        if not show_result:\n",
    "            display.display(plt.gcf())\n",
    "            display.clear_output(wait=True)\n",
    "        else:\n",
    "            display.display(plt.gcf())"
   ]
  },
  {
   "cell_type": "markdown",
   "id": "f50914bd-097d-4291-a557-9020c50729ed",
   "metadata": {},
   "source": [
    "## Training Loop"
   ]
  },
  {
   "cell_type": "code",
   "execution_count": 16,
   "id": "65891f4e-67fd-4e1c-a09e-c20f462a6a92",
   "metadata": {},
   "outputs": [],
   "source": [
    "def optimize_model():\n",
    "    if len(memory) < BATCH_SIZE:\n",
    "        return\n",
    "    transitions = memory.sample(BATCH_SIZE)\n",
    "    # Transpose the batch (see https://stackoverflow.com/a/19343/3343043 for\n",
    "    # detailed explanation). This converts batch-array of Transitions\n",
    "    # to Transition of batch-arrays.\n",
    "    batch = Transition(*zip(*transitions))\n",
    "\n",
    "    # Compute a mask of non-final states and concatenate the batch elements\n",
    "    # (a final state would've been the one after which simulation ended)\n",
    "    non_final_mask = torch.tensor(tuple(map(lambda s: s is not None,\n",
    "                                          batch.next_state)), device=device, dtype=torch.bool)\n",
    "    non_final_next_states = torch.cat([s for s in batch.next_state\n",
    "                                                if s is not None])\n",
    "    state_batch = torch.cat(batch.state)\n",
    "    #action_batch = torch.cat(batch.action)\n",
    "    action_batch = torch.tensor(np.concatenate(batch.action))\n",
    "    reward_batch = torch.cat(batch.reward)\n",
    "\n",
    "    # Compute Q(s_t, a) - the model computes Q(s_t), then we select the\n",
    "    # columns of actions taken. These are the actions which would've been taken\n",
    "    # for each batch state according to policy_net\n",
    "    \n",
    "    #state_action_values = policy_net(state_batch).gather(1, action_batch)\n",
    "    state_action_values = policy_net(state_batch)\n",
    "\n",
    "    # Compute V(s_{t+1}) for all next states.\n",
    "    # Expected values of actions for non_final_next_states are computed based\n",
    "    # on the \"older\" target_net; selecting their best reward with max(1).values\n",
    "    # This is merged based on the mask, such that we'll have either the expected\n",
    "    # state value or 0 in case the state was final.\n",
    "    next_state_values = torch.zeros(BATCH_SIZE, device=device)\n",
    "    with torch.no_grad():\n",
    "        next_state_values[non_final_mask] = target_net(non_final_next_states).max(1).values\n",
    "    # Compute the expected Q values\n",
    "    expected_state_action_values = (next_state_values * GAMMA) + reward_batch\n",
    "\n",
    "    # Compute Huber loss\n",
    "    criterion = nn.SmoothL1Loss()\n",
    "    loss = criterion(state_action_values, expected_state_action_values.unsqueeze(1))\n",
    "\n",
    "    # Optimize the model\n",
    "    optimizer.zero_grad()\n",
    "    loss.backward()\n",
    "    # In-place gradient clipping\n",
    "    torch.nn.utils.clip_grad_value_(policy_net.parameters(), 100)\n",
    "    optimizer.step()"
   ]
  },
  {
   "cell_type": "code",
   "execution_count": 17,
   "id": "e34d76b2-e40f-46d5-81c6-09dceff51d87",
   "metadata": {},
   "outputs": [
    {
     "name": "stdout",
     "output_type": "stream",
     "text": [
      "Complete\n"
     ]
    },
    {
     "data": {
      "image/png": "[encoded data removed]",
      "text/plain": [
       "<Figure size 640x480 with 1 Axes>"
      ]
     },
     "metadata": {},
     "output_type": "display_data"
    },
    {
     "data": {
      "text/plain": [
       "<Figure size 640x480 with 0 Axes>"
      ]
     },
     "metadata": {},
     "output_type": "display_data"
    },
    {
     "data": {
      "text/plain": [
       "<Figure size 640x480 with 0 Axes>"
      ]
     },
     "metadata": {},
     "output_type": "display_data"
    }
   ],
   "source": [
    "if torch.cuda.is_available():\n",
    "    num_episodes = 600\n",
    "else:\n",
    "    #num_episodes = 50\n",
    "    num_episodes = 5\n",
    "\n",
    "new_rewards = []\n",
    "\n",
    "target_angle = 45\n",
    "\n",
    "for i_episode in range(num_episodes):\n",
    "    # Initialize the environment and get its state\n",
    "    state, info = env.reset()\n",
    "    state = torch.tensor(state, dtype=torch.float32, device=device).unsqueeze(0)\n",
    "    for t in count():\n",
    "        #action = select_action(state)\n",
    "        action = np.array(select_action(state), dtype=np.float32)\n",
    "        observation, reward, terminated, truncated, _ = env.step(action)\n",
    "\n",
    "        # ///////////////////////////////////////////////////////////\n",
    "        #reward = torch.tensor([reward], device=device)\n",
    "        reward = calculate_reward(observation, action.item(), math.radians(target_angle))\n",
    "\n",
    "        # ///////////////////////////////////////////////////////////\n",
    "\n",
    "        done = terminated or truncated\n",
    "\n",
    "\n",
    "        ## ***************************\n",
    "\n",
    "        pole_angle = math.degrees(math.acos(observation[0]))\n",
    "        #reward = calculate_reward(pole_angle)\n",
    "\n",
    "        print(np.array([pole_angle, action.item(), reward.item()]))\n",
    "        # print(pole_angle)\n",
    "        # print(action.item())\n",
    "        # print(reward.item())\n",
    "        new_rewards.append(reward.item())\n",
    "        ## ***************************\n",
    "\n",
    "\n",
    "\n",
    "        if terminated:\n",
    "            next_state = None\n",
    "        else:\n",
    "            next_state = torch.tensor(observation, dtype=torch.float32, device=device).unsqueeze(0)\n",
    "\n",
    "        # Store the transition in memory\n",
    "        memory.push(state, action, next_state, reward)\n",
    "\n",
    "        # Move to the next state\n",
    "        state = next_state\n",
    "\n",
    "        # Perform one step of the optimization (on the policy network)\n",
    "        optimize_model()\n",
    "\n",
    "        # Soft update of the target network's weights\n",
    "        # θ′ ← τ θ + (1 −τ )θ′\n",
    "        target_net_state_dict = target_net.state_dict()\n",
    "        policy_net_state_dict = policy_net.state_dict()\n",
    "        for key in policy_net_state_dict:\n",
    "            target_net_state_dict[key] = policy_net_state_dict[key]*TAU + target_net_state_dict[key]*(1-TAU)\n",
    "        target_net.load_state_dict(target_net_state_dict)\n",
    "\n",
    "        if done:\n",
    "            episode_rewards = episode_rewards + new_rewards\n",
    "            new_rewards = []\n",
    "            plot_rewards()\n",
    "            break\n",
    "\n",
    "print('Complete')\n",
    "plot_rewards(show_result=True)\n",
    "plt.ioff()\n",
    "plt.show()\n",
    "env.close()"
   ]
  },
  {
   "cell_type": "code",
   "execution_count": 18,
   "id": "2152c05a-8eb5-45f5-98cc-783aa71d067c",
   "metadata": {},
   "outputs": [
    {
     "name": "stdout",
     "output_type": "stream",
     "text": [
      "0.17453292519943295\n"
     ]
    }
   ],
   "source": [
    "print(math.radians(10))"
   ]
  },
  {
   "cell_type": "code",
   "execution_count": null,
   "id": "4c8f7276-d985-44f5-b08a-175cc0d48ec7",
   "metadata": {},
   "outputs": [],
   "source": []
  },
  {
   "cell_type": "code",
   "execution_count": null,
   "id": "acca2cb8-cc40-4f58-86a5-5d2f29ecec05",
   "metadata": {},
   "outputs": [],
   "source": []
  }
 ],
 "metadata": {
  "kernelspec": {
   "display_name": "Python 3 (ipykernel)",
   "language": "python",
   "name": "python3"
  },
  "language_info": {
   "codemirror_mode": {
    "name": "ipython",
    "version": 3
   },
   "file_extension": ".py",
   "mimetype": "text/x-python",
   "name": "python",
   "nbconvert_exporter": "python",
   "pygments_lexer": "ipython3",
   "version": "3.10.14"
  }
 },
 "nbformat": 4,
 "nbformat_minor": 5
}
