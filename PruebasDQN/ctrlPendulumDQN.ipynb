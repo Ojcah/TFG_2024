{
 "cells": [
  {
   "cell_type": "markdown",
   "metadata": {},
   "source": [
    "# Prueba post entrenamiento"
   ]
  },
  {
   "cell_type": "code",
   "execution_count": 1,
   "metadata": {},
   "outputs": [],
   "source": [
    "# import gymnasium as gym\n",
    "# import sys\n",
    "# sys.path.append(\"C:\\Users\\Kley2\\Documents\\TFG_2024\\Gym_wrapper\")\n",
    "# from learned_pahm import LearnedPAHM"
   ]
  },
  {
   "cell_type": "code",
   "execution_count": 2,
   "metadata": {},
   "outputs": [],
   "source": [
    "import gymnasium as gym\n",
    "import math\n",
    "import random\n",
    "import matplotlib\n",
    "import matplotlib.pyplot as plt\n",
    "from collections import namedtuple, deque\n",
    "from itertools import count\n",
    "\n",
    "import torch\n",
    "import torch.nn as nn\n",
    "import torch.optim as optim\n",
    "import torch.nn.functional as F\n",
    "import numpy as np"
   ]
  },
  {
   "cell_type": "code",
   "execution_count": 3,
   "metadata": {},
   "outputs": [
    {
     "name": "stdout",
     "output_type": "stream",
     "text": [
      "True\n"
     ]
    }
   ],
   "source": [
    "#env = gym.make(\"Pendulum-v1\", g=9.81)\n",
    "env = gym.make(\"Pendulum-v1\", render_mode=\"human\", g=9.81)\n",
    "\n",
    "# set up matplotlib\n",
    "is_ipython = 'inline' in matplotlib.get_backend()\n",
    "if is_ipython:\n",
    "    from IPython import display\n",
    "\n",
    "plt.ion()\n",
    "\n",
    "# if GPU is to be used\n",
    "device = torch.device(\"cuda\" if torch.cuda.is_available() else \"cpu\")\n",
    "\n",
    "print(torch.cuda.is_available())\n",
    "\n",
    "# ********************************************************************\n",
    "\n",
    "def calculate_reward(observ, torque, target_angle): # Todos los valores estan en radianes\n",
    "    #theta, theta_dot = state\n",
    "    theta = math.atan2(observ[1],observ[0])\n",
    "    theta_dot = observ[2]\n",
    "    \n",
    "    theta_n = ((theta + np.pi) % (2*np.pi)) - np.pi\n",
    "\n",
    "    theta_error = np.abs(theta_n - target_angle)\n",
    "    \n",
    "    costs = theta_error**2 + 0.1 * theta_dot**2 + 0.001 * (torque**2)\n",
    "\n",
    "    if theta_error <= 0.26: # ~ 15°\n",
    "        reward_n = -costs + math.exp(-(theta_error)**2)\n",
    "    else:\n",
    "        reward_n = -costs\n",
    "\n",
    "    return torch.tensor([reward_n], device=device)\n"
   ]
  },
  {
   "cell_type": "markdown",
   "metadata": {},
   "source": [
    "## Replay Memory"
   ]
  },
  {
   "cell_type": "code",
   "execution_count": 4,
   "metadata": {},
   "outputs": [],
   "source": [
    "Transition = namedtuple('Transition',\n",
    "                        ('state', 'action', 'next_state', 'reward'))\n",
    "class ReplayMemory(object):\n",
    "\n",
    "    def __init__(self, capacity):\n",
    "        self.memory = deque([], maxlen=capacity)\n",
    "\n",
    "    def push(self, *args):\n",
    "        \"\"\"Save a transition\"\"\"\n",
    "        self.memory.append(Transition(*args))\n",
    "\n",
    "    def sample(self, batch_size):\n",
    "        return random.sample(self.memory, batch_size)\n",
    "\n",
    "    def __len__(self):\n",
    "        return len(self.memory)"
   ]
  },
  {
   "cell_type": "code",
   "execution_count": 5,
   "metadata": {},
   "outputs": [],
   "source": [
    "class DQN(nn.Module):\n",
    "\n",
    "    def __init__(self, n_observations, n_actions):\n",
    "        super(DQN, self).__init__()\n",
    "        self.layer1 = nn.Linear(n_observations, 128)\n",
    "        self.layer2 = nn.Linear(128, 128)\n",
    "        self.output_layer = nn.Linear(128, n_actions)\n",
    "        self.prelu_init = nn.Parameter(torch.ones(1))\n",
    "\n",
    "    # Called with either one element to determine next action, or a batch\n",
    "    # during optimization. Returns tensor([[left0exp,right0exp]...]).\n",
    "    def forward(self, x):\n",
    "        x = F.prelu(self.layer1(x), self.prelu_init)\n",
    "        x = F.prelu(self.layer2(x), self.prelu_init)\n",
    "        return self.output_layer(x)\n",
    "        "
   ]
  },
  {
   "cell_type": "code",
   "execution_count": 6,
   "metadata": {},
   "outputs": [],
   "source": [
    "BATCH_SIZE = 128    # number of transitions sampled from the replay buffer\n",
    "GAMMA = 0.99        # discount factor as mentioned in the previous section\n",
    "EPS_START = 0.9     # starting value of epsilon\n",
    "EPS_END = 0.05      # final value of epsilon\n",
    "EPS_DECAY = 1000    # controls the rate of exponential decay of epsilon, higher means a slower decay\n",
    "TAU = 0.005         # update rate of the target network\n",
    "LR = 1e-4           # learning rate of the ``AdamW`` optimizer\n",
    "\n",
    "# ****************************************************************************\n",
    "# ****************************************************************************\n",
    "\n",
    "n_actions = 1\n",
    "\n",
    "state, info = env.reset()\n",
    "n_observations = len(state)\n",
    "\n",
    "# Cargar el modelo\n",
    "policy_net = DQN(n_observations, n_actions).to(device)\n",
    "policy_net.load_state_dict(torch.load(\"models/Pendulum_100eps.pth\"))\n",
    "policy_net.eval()\n",
    "\n",
    "# ****************************************************************************\n",
    "# ****************************************************************************\n",
    "\n",
    "optimizer = optim.AdamW(policy_net.parameters(), lr=LR, amsgrad=True)\n",
    "memory = ReplayMemory(10000)\n",
    "\n",
    "\n",
    "steps_done = 0\n",
    "        \n",
    "episode_rewards = []\n",
    "\n",
    "def plot_rewards(show_result=False):\n",
    "    plt.figure(1)\n",
    "    rewards_t = torch.tensor(episode_rewards, dtype=torch.float)\n",
    "    if show_result:\n",
    "        plt.title('Result')\n",
    "    else:\n",
    "        plt.clf()\n",
    "        plt.title('Training...')\n",
    "    plt.xlabel('Time steps (gray lines=episode)')\n",
    "    plt.ylabel('Reward')\n",
    "    #plt.plot(rewards_t.numpy(), linewidth=0.2)                 # Cada valor de reward\n",
    "    # Take 100 episode averages and plot them too\n",
    "    if len(rewards_t) >= 100:\n",
    "        means = rewards_t.unfold(0, 100, 1).mean(1).view(-1)\n",
    "        means = torch.cat((torch.zeros(99), means))\n",
    "        plt.plot(means.numpy())                                 # Promedios del reward\n",
    "\n",
    "    # Añadir líneas verticales grises en cada t=200\n",
    "    #for t in range(200, len(rewards_t) + 1, 200):\n",
    "    #    plt.axvline(x=t, color='gray', linewidth=0.25)\n",
    "\n",
    "    plt.pause(0.001)  # pause a bit so that plots are updated\n",
    "    if is_ipython:\n",
    "        if not show_result:\n",
    "            display.display(plt.gcf())\n",
    "            display.clear_output(wait=True)\n",
    "        else:\n",
    "            display.display(plt.gcf())"
   ]
  },
  {
   "cell_type": "code",
   "execution_count": 7,
   "metadata": {},
   "outputs": [
    {
     "name": "stdout",
     "output_type": "stream",
     "text": [
      "Complete\n"
     ]
    },
    {
     "data": {
      "image/png": "[encoded data removed]",
      "text/plain": [
       "<Figure size 640x480 with 1 Axes>"
      ]
     },
     "metadata": {},
     "output_type": "display_data"
    },
    {
     "data": {
      "text/plain": [
       "<Figure size 640x480 with 0 Axes>"
      ]
     },
     "metadata": {},
     "output_type": "display_data"
    },
    {
     "data": {
      "text/plain": [
       "<Figure size 640x480 with 0 Axes>"
      ]
     },
     "metadata": {},
     "output_type": "display_data"
    }
   ],
   "source": [
    "## --------------------------------------------------------------------------------------\n",
    "## --------------------------------------------------------------------------------------\n",
    "\n",
    "target_angle = 45\n",
    "#changing_target = False\n",
    "\n",
    "# ****************************************************************************\n",
    "num_episodes = 10\n",
    "\n",
    "## --------------------------------------------------------------------------------------\n",
    "## --------------------------------------------------------------------------------------\n",
    "\n",
    "new_rewards = []\n",
    "epoch = 0\n",
    "\n",
    "for i_episode in range(num_episodes):\n",
    "    # Initialize the environment and get its state\n",
    "    state, info = env.reset()\n",
    "    state = torch.tensor(state, dtype=torch.float32, device=device).unsqueeze(0)\n",
    "    print(\"Episode >> \", i_episode)\n",
    "    for t in count():\n",
    "        with torch.no_grad():\n",
    "            subaction = policy_net(state).item()\n",
    "        action = np.array([subaction], dtype=np.float32) # Se cambio select_action() por policy_net()\n",
    "        observation, reward, terminated, truncated, _ = env.step(action)\n",
    "\n",
    "        # ///////////////////////////////////////////////////////////////////////////////////////////////////\n",
    "        reward = calculate_reward(observation, action.item(), math.radians(target_angle))\n",
    "        # ///////////////////////////////////////////////////////////////////////////////////////////////////\n",
    "\n",
    "        done = terminated or truncated\n",
    "\n",
    "        ## *********************************************************************************\n",
    "        pole_angle = math.degrees(math.atan2(observation[1],observation[0]))\n",
    "\n",
    "        #vala = state[0].cpu().numpy()\n",
    "        #print(vala)\n",
    "        print(np.array([pole_angle, action.item(), reward.item()]))\n",
    "        new_rewards.append(reward.item())\n",
    "        ## *********************************************************************************\n",
    "\n",
    "        if terminated:\n",
    "            next_state = None\n",
    "        else:\n",
    "            next_state = torch.tensor(observation, dtype=torch.float32, device=device).unsqueeze(0)\n",
    "\n",
    "        # Store the transition in memory\n",
    "        memory.push(state, action, next_state, reward)\n",
    "\n",
    "        # Move to the next state\n",
    "        state = next_state       \n",
    "\n",
    "        if done:\n",
    "            episode_rewards = episode_rewards + new_rewards\n",
    "            new_rewards = []\n",
    "            plot_rewards()\n",
    "            break\n",
    "\n",
    "print('Complete')\n",
    "plot_rewards(show_result=True)\n",
    "plt.ioff()\n",
    "plt.show()\n",
    "env.close()"
   ]
  },
  {
   "cell_type": "code",
   "execution_count": null,
   "metadata": {},
   "outputs": [],
   "source": []
  },
  {
   "cell_type": "code",
   "execution_count": null,
   "metadata": {},
   "outputs": [],
   "source": []
  }
 ],
 "metadata": {
  "kernelspec": {
   "display_name": "forDQN",
   "language": "python",
   "name": "python3"
  },
  "language_info": {
   "codemirror_mode": {
    "name": "ipython",
    "version": 3
   },
   "file_extension": ".py",
   "mimetype": "text/x-python",
   "name": "python",
   "nbconvert_exporter": "python",
   "pygments_lexer": "ipython3",
   "version": "3.10.14"
  }
 },
 "nbformat": 4,
 "nbformat_minor": 2
}
